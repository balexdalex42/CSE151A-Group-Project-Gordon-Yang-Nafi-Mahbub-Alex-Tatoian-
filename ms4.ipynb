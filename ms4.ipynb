{
 "cells": [
  {
   "cell_type": "code",
   "execution_count": 1,
   "id": "ec3b5f7b-3d5c-45d4-b01e-75610a51bd0e",
   "metadata": {
    "id": "ec3b5f7b-3d5c-45d4-b01e-75610a51bd0e"
   },
   "outputs": [],
   "source": [
    "import numpy as np\n",
    "import pandas as pd\n",
    "from sklearn.preprocessing import StandardScaler\n",
    "from sklearn.decomposition import PCA, TruncatedSVD\n",
    "import matplotlib.pyplot as plt\n",
    "from sklearn.metrics import classification_report\n",
    "from sklearn.model_selection import train_test_split\n",
    "from imblearn.over_sampling import ADASYN\n",
    "from sklearn.metrics import confusion_matrix, ConfusionMatrixDisplay"
   ]
  },
  {
   "cell_type": "markdown",
   "id": "7iq__rld2_JQ",
   "metadata": {
    "id": "7iq__rld2_JQ"
   },
   "source": [
    "## Loading Data Set"
   ]
  },
  {
   "cell_type": "markdown",
   "id": "9w4-mMlhCtna",
   "metadata": {
    "id": "9w4-mMlhCtna"
   },
   "source": [
    "## Pre-Processing (Removing Non-Useful Information; refer to [MS3](https://github.com/balexdalex42/CSE151A-Group-Project-Gordon-Yang-Nafi-Mahbub-Alex-Tatoian-/tree/Milestone3))"
   ]
  },
  {
   "cell_type": "code",
   "execution_count": 2,
   "id": "vsP5ABOJGSG3",
   "metadata": {
    "colab": {
     "base_uri": "https://localhost:8080/"
    },
    "id": "vsP5ABOJGSG3",
    "outputId": "f3fca97b-6a0c-42f6-a4bd-03cbcd3330c6"
   },
   "outputs": [],
   "source": [
    "final_df = pd.read_csv('./archive/prep_dataset.csv')"
   ]
  },
  {
   "cell_type": "markdown",
   "id": "tcl0FP64EEtM",
   "metadata": {
    "id": "tcl0FP64EEtM"
   },
   "source": [
    "## Starting Unsupervised Learning"
   ]
  },
  {
   "cell_type": "markdown",
   "id": "NbvoSf-ADSvw",
   "metadata": {
    "id": "NbvoSf-ADSvw"
   },
   "source": [
    "### Dropping Output Feature; Not Used for Unsupervised Learning\n",
    "\n"
   ]
  },
  {
   "cell_type": "code",
   "execution_count": 3,
   "id": "f5cbb619-ba51-4f7f-a875-7d028b287a50",
   "metadata": {
    "id": "f5cbb619-ba51-4f7f-a875-7d028b287a50"
   },
   "outputs": [],
   "source": [
    "X = final_df.drop(columns=['pha'])\n",
    "y = (final_df['pha'] == 'Y').astype(int)"
   ]
  },
  {
   "cell_type": "code",
   "execution_count": 4,
   "id": "56b7594a-3b5f-4f93-b11f-81e956a42959",
   "metadata": {
    "id": "56b7594a-3b5f-4f93-b11f-81e956a42959"
   },
   "outputs": [],
   "source": [
    "# Encode the columns using one-hot\n",
    "X = pd.get_dummies(X, drop_first=True)"
   ]
  },
  {
   "cell_type": "code",
   "execution_count": 5,
   "id": "efe95bc9-0eda-435a-83c5-549da5d036c1",
   "metadata": {
    "id": "efe95bc9-0eda-435a-83c5-549da5d036c1"
   },
   "outputs": [],
   "source": [
    "scaler = StandardScaler()\n",
    "X_sc = scaler.fit_transform(X)"
   ]
  },
  {
   "cell_type": "code",
   "execution_count": 6,
   "id": "03c70e87-296f-407c-afe5-fb7a10221f79",
   "metadata": {
    "id": "03c70e87-296f-407c-afe5-fb7a10221f79"
   },
   "outputs": [],
   "source": [
    "# Try a 2D PCA and visualize it\n",
    "pca2d = PCA(n_components=2)\n",
    "X_pca2d = pca2d.fit_transform(X_sc)"
   ]
  },
  {
   "cell_type": "code",
   "execution_count": 7,
   "id": "b885e7e8-0ca8-4da0-847d-082e5aec36fb",
   "metadata": {
    "colab": {
     "base_uri": "https://localhost:8080/"
    },
    "id": "b885e7e8-0ca8-4da0-847d-082e5aec36fb",
    "outputId": "386adb50-b736-4435-f02f-8a85bc723a4c"
   },
   "outputs": [
    {
     "data": {
      "text/plain": [
       "(932335, 2)"
      ]
     },
     "execution_count": 7,
     "metadata": {},
     "output_type": "execute_result"
    }
   ],
   "source": [
    "X_pca2d.shape"
   ]
  },
  {
   "cell_type": "code",
   "execution_count": 8,
   "id": "db28ff1c-2729-4d4a-9bde-90867b38ef9d",
   "metadata": {
    "id": "db28ff1c-2729-4d4a-9bde-90867b38ef9d"
   },
   "outputs": [],
   "source": [
    "import seaborn as sns"
   ]
  },
  {
   "cell_type": "code",
   "execution_count": 9,
   "id": "ca06ae30-5273-41a9-8a88-73c36d761a70",
   "metadata": {
    "id": "ca06ae30-5273-41a9-8a88-73c36d761a70"
   },
   "outputs": [],
   "source": [
    "pca_vis_df = pd.DataFrame({\n",
    "    'PCA1' : X_pca2d[:,0],\n",
    "    'PCA2' : X_pca2d[:,1],\n",
    "    'pha' : y\n",
    "})"
   ]
  },
  {
   "cell_type": "code",
   "execution_count": 10,
   "id": "0a0b17bd-c9ba-4637-83b4-0e5a15ab8dcd",
   "metadata": {
    "colab": {
     "base_uri": "https://localhost:8080/",
     "height": 489
    },
    "id": "0a0b17bd-c9ba-4637-83b4-0e5a15ab8dcd",
    "outputId": "83633bed-7ebd-48c2-e3dc-4f3d89f00d17"
   },
   "outputs": [
    {
     "data": {
      "text/plain": [
       "Text(0.5, 1.0, 'Asteroid Dataset Principle Component Analysis (dims=2)')"
      ]
     },
     "execution_count": 10,
     "metadata": {},
     "output_type": "execute_result"
    },
    {
     "data": {
      "image/png": "[encoded data removed]",
      "text/plain": [
       "<Figure size 640x480 with 1 Axes>"
      ]
     },
     "metadata": {},
     "output_type": "display_data"
    }
   ],
   "source": [
    "sns.scatterplot(data=pca_vis_df, x='PCA1', y='PCA2', hue='pha')\n",
    "plt.xlabel('PCA1')\n",
    "plt.ylabel('PCA2')\n",
    "plt.title('Asteroid Dataset Principle Component Analysis (dims=2)')"
   ]
  },
  {
   "cell_type": "code",
   "execution_count": 11,
   "id": "09b67878-e157-4f29-8ba1-1af55aab5c99",
   "metadata": {
    "id": "09b67878-e157-4f29-8ba1-1af55aab5c99"
   },
   "outputs": [],
   "source": [
    "# Let's reduce our data to 5 features\n",
    "svd5 = TruncatedSVD(n_components=5)\n",
    "X5 = svd5.fit_transform(X)"
   ]
  },
  {
   "cell_type": "code",
   "execution_count": 12,
   "id": "1230c38b-6060-4c9b-ad22-4c936e8a20b2",
   "metadata": {
    "colab": {
     "base_uri": "https://localhost:8080/"
    },
    "id": "1230c38b-6060-4c9b-ad22-4c936e8a20b2",
    "outputId": "63ac1be5-ae74-42ea-fa6f-abbaccf13fb2"
   },
   "outputs": [
    {
     "data": {
      "text/plain": [
       "array([7.76368763e-06, 9.99992044e-01, 1.86340022e-07, 2.22223697e-09,\n",
       "       1.96665580e-09])"
      ]
     },
     "execution_count": 12,
     "metadata": {},
     "output_type": "execute_result"
    }
   ],
   "source": [
    "svd5.explained_variance_ratio_"
   ]
  },
  {
   "cell_type": "code",
   "execution_count": 13,
   "id": "04d921ee-17a7-4cdf-81ae-1f0a5fdd5ece",
   "metadata": {
    "colab": {
     "base_uri": "https://localhost:8080/"
    },
    "id": "04d921ee-17a7-4cdf-81ae-1f0a5fdd5ece",
    "outputId": "20eb9d53-3671-4e75-f8a7-fdcbd69a9fa6"
   },
   "outputs": [
    {
     "data": {
      "text/plain": [
       "array([3.35769092e+09, 2.26055961e+09, 9.75820752e+05, 1.06564400e+05,\n",
       "       1.00249251e+05])"
      ]
     },
     "execution_count": 13,
     "metadata": {},
     "output_type": "execute_result"
    }
   ],
   "source": [
    "svd5.singular_values_"
   ]
  },
  {
   "cell_type": "code",
   "execution_count": 14,
   "id": "882ddef2-d48d-4563-8183-24a0e28b0408",
   "metadata": {
    "colab": {
     "base_uri": "https://localhost:8080/"
    },
    "id": "882ddef2-d48d-4563-8183-24a0e28b0408",
    "outputId": "07ba5753-ebb8-45a5-d41d-43f9c37628a8"
   },
   "outputs": [
    {
     "data": {
      "text/plain": [
       "(932335, 5)"
      ]
     },
     "execution_count": 14,
     "metadata": {},
     "output_type": "execute_result"
    }
   ],
   "source": [
    "X5.shape"
   ]
  },
  {
   "cell_type": "code",
   "execution_count": 15,
   "id": "001968a1-a5c3-43bc-bb6e-80690a334020",
   "metadata": {
    "id": "001968a1-a5c3-43bc-bb6e-80690a334020"
   },
   "outputs": [],
   "source": [
    "pca5 = PCA(n_components=5)\n",
    "X_pca5 = pca5.fit_transform(X)"
   ]
  },
  {
   "cell_type": "code",
   "execution_count": 16,
   "id": "e0a6572e-1a7a-4043-a661-521bccef6ba5",
   "metadata": {
    "colab": {
     "base_uri": "https://localhost:8080/"
    },
    "id": "e0a6572e-1a7a-4043-a661-521bccef6ba5",
    "outputId": "4067883f-9273-46a7-ab4a-dc5aa027ac0b"
   },
   "outputs": [
    {
     "data": {
      "text/plain": [
       "array([9.99999468e-01, 4.65266085e-07, 6.05823629e-08, 2.22223652e-09,\n",
       "       1.96657338e-09])"
      ]
     },
     "execution_count": 16,
     "metadata": {},
     "output_type": "execute_result"
    }
   ],
   "source": [
    "pca5.explained_variance_ratio_"
   ]
  },
  {
   "cell_type": "code",
   "execution_count": 17,
   "id": "ac97139d-9ea9-4133-9da0-1e9c46af4eda",
   "metadata": {
    "colab": {
     "base_uri": "https://localhost:8080/"
    },
    "id": "ac97139d-9ea9-4133-9da0-1e9c46af4eda",
    "outputId": "29d1a399-a729-4f82-ae39-cf911e26ae79"
   },
   "outputs": [
    {
     "data": {
      "text/plain": [
       "array([2.26056419e+09, 1.54194065e+06, 5.56403770e+05, 1.06564389e+05,\n",
       "       1.00247151e+05])"
      ]
     },
     "execution_count": 17,
     "metadata": {},
     "output_type": "execute_result"
    }
   ],
   "source": [
    "pca5.singular_values_"
   ]
  },
  {
   "cell_type": "code",
   "execution_count": 18,
   "id": "361bcc21-0a40-4cca-b609-e907634527bb",
   "metadata": {
    "colab": {
     "base_uri": "https://localhost:8080/"
    },
    "id": "361bcc21-0a40-4cca-b609-e907634527bb",
    "outputId": "b05ecf61-7cb9-4c60-93f2-2ee4376c3bc0"
   },
   "outputs": [
    {
     "data": {
      "text/plain": [
       "array(['H', 'epoch', 'e', 'a', 'q', 'i', 'om', 'w', 'ma', 'ad', 'n', 'tp',\n",
       "       'per', 'moid', 'rms', 'neo_Y', 'class_APO', 'class_AST',\n",
       "       'class_ATE', 'class_CEN', 'class_IEO', 'class_IMB', 'class_MBA',\n",
       "       'class_MCA', 'class_OMB', 'class_TJN', 'class_TNO'], dtype=object)"
      ]
     },
     "execution_count": 18,
     "metadata": {},
     "output_type": "execute_result"
    }
   ],
   "source": [
    "pca5.feature_names_in_"
   ]
  },
  {
   "cell_type": "markdown",
   "id": "WVB4XugxARgs",
   "metadata": {
    "id": "WVB4XugxARgs"
   },
   "source": [
    "## Model Training (Using KNN)"
   ]
  },
  {
   "cell_type": "markdown",
   "id": "FiMzP_RaUF17",
   "metadata": {
    "id": "FiMzP_RaUF17"
   },
   "source": [
    "### Splitting the Data"
   ]
  },
  {
   "cell_type": "code",
   "execution_count": 19,
   "id": "4664340a-6ec7-43bc-84f8-6a77d6476cfd",
   "metadata": {
    "colab": {
     "base_uri": "https://localhost:8080/"
    },
    "id": "4664340a-6ec7-43bc-84f8-6a77d6476cfd",
    "outputId": "0443c10f-f486-49e3-ed40-1c89567be79d"
   },
   "outputs": [
    {
     "name": "stdout",
     "output_type": "stream",
     "text": [
      "x_train shape: (745868, 27)\n",
      "x_test shape: (186467, 27)\n",
      "y_train shape: (745868,)\n",
      "y_test shape: (186467,)\n"
     ]
    }
   ],
   "source": [
    "X_train, X_test, y_train, y_test = train_test_split(X, y, test_size=0.2, random_state=42)\n",
    "print(f\"x_train shape: {X_train.shape}\")\n",
    "print(f\"x_test shape: {X_test.shape}\")\n",
    "print(f\"y_train shape: {y_train.shape}\")\n",
    "print(f\"y_test shape: {y_test.shape}\")"
   ]
  },
  {
   "cell_type": "markdown",
   "id": "vf5ojNhGhBB6",
   "metadata": {
    "id": "vf5ojNhGhBB6"
   },
   "source": [
    "### Getting the SVD of our Training Matrix"
   ]
  },
  {
   "cell_type": "code",
   "execution_count": 20,
   "id": "ZCxPK-imU1t7",
   "metadata": {
    "id": "ZCxPK-imU1t7"
   },
   "outputs": [],
   "source": [
    "#training\n",
    "scaler = StandardScaler()\n",
    "X_sc_train = scaler.fit_transform(X_train)\n",
    "U_train, S_train, V_train_t = np.linalg.svd(X_sc_train, full_matrices=False)\n",
    "#Need centered testing matrix, note we use training mean though; NO DATA LEAKAGE ALLOWED\n",
    "X_sc_test = scaler.transform(X_test)\n"
   ]
  },
  {
   "cell_type": "code",
   "execution_count": 21,
   "id": "obKipKyGhVvp",
   "metadata": {
    "id": "obKipKyGhVvp"
   },
   "outputs": [],
   "source": [
    "#DEFINING CERTAIN CONSTANTS\n",
    "max_num_neighbors = 15\n",
    "#We know that we don't need to iterate to higher dim, since the dimensions would exp 95% of the var\n",
    "variance_threshold = 0.05"
   ]
  },
  {
   "cell_type": "code",
   "execution_count": 22,
   "id": "sRmU0576hV_X",
   "metadata": {
    "colab": {
     "base_uri": "https://localhost:8080/"
    },
    "id": "sRmU0576hV_X",
    "outputId": "8d1ccdb3-2326-4528-ffde-d9632a08bbc1"
   },
   "outputs": [
    {
     "name": "stdout",
     "output_type": "stream",
     "text": [
      "best_k: 5\n",
      "best_num_neighbors: 3\n",
      "best_macro_f1: 0.6779684071645421\n"
     ]
    }
   ],
   "source": [
    "#Now performing the Cross-Validation to get best k-value and number of neighbors\n",
    "from sklearn.neighbors import KNeighborsClassifier\n",
    "\n",
    "eigenvals = S_train**2\n",
    "sum_eigenvalues = np.sum(S_train ** 2)\n",
    "# explained_variance_ratio = (S_train ** 2) / sum_eigenvalues\n",
    "# cum_var_ratio = np.cumsum(explained_variance_ratio) #will give us the cum_var_ratio for any k\n",
    "# print(explained_variance_ratio)\n",
    "# print(cum_var_ratio)\n",
    "# k_min = np.argmax(cum_var_ratio >= variance_threshold) + 1 #will give us the min k val that meets threshold\n",
    "# print(f\"k_min: {k_min}\")\n",
    "#iterate over numbers of neighbors\n",
    "best_macro_f1 = 0\n",
    "best_k = 0\n",
    "best_num_neighbors = 0\n",
    "max_k = 6\n",
    "best_cm = None\n",
    "\n",
    "for k in range(1, max_k):\n",
    "  U_k, S_k, Vt_k = U_train[:, :k], S_train[:k], V_train_t[:k, :]\n",
    "  X_train_k = U_k @ np.diag(S_k) # could've used formula Xc_train @ Vt_k.T\n",
    "  X_test_k = X_sc_test @ Vt_k.T\n",
    "  for num_neighbors in range(1, max_num_neighbors + 1):\n",
    "    knn = KNeighborsClassifier(n_neighbors=num_neighbors, n_jobs=-1)\n",
    "    knn.fit(X_train_k, y_train)\n",
    "    y_pred = knn.predict(X_test_k)\n",
    "    report = classification_report(y_test, y_pred, output_dict=True)\n",
    "    if report['macro avg']['f1-score'] > best_macro_f1:\n",
    "      best_cm = confusion_matrix(y_test, y_pred)\n",
    "      best_macro_f1 = report['macro avg']['f1-score']\n",
    "      best_k = k\n",
    "      best_num_neighbors = num_neighbors\n",
    "print(f\"best_k: {best_k}\")\n",
    "print(f\"best_num_neighbors: {best_num_neighbors}\")\n",
    "print(f\"best_macro_f1: {best_macro_f1}\")"
   ]
  },
  {
   "cell_type": "code",
   "execution_count": 23,
   "id": "cf2a3382-6880-4887-84f1-32b5e427ba52",
   "metadata": {},
   "outputs": [
    {
     "data": {
      "image/png": "[encoded data removed]",
      "text/plain": [
       "<Figure size 640x480 with 2 Axes>"
      ]
     },
     "metadata": {},
     "output_type": "display_data"
    }
   ],
   "source": [
    "disp = ConfusionMatrixDisplay(confusion_matrix=best_cm)\n",
    "disp.plot(cmap=plt.cm.Blues)\n",
    "plt.show()"
   ]
  }
 ],
 "metadata": {
  "colab": {
   "provenance": []
  },
  "kernelspec": {
   "display_name": "Python 3 (ipykernel)",
   "language": "python",
   "name": "python3"
  },
  "language_info": {
   "codemirror_mode": {
    "name": "ipython",
    "version": 3
   },
   "file_extension": ".py",
   "mimetype": "text/x-python",
   "name": "python",
   "nbconvert_exporter": "python",
   "pygments_lexer": "ipython3",
   "version": "3.10.18"
  }
 },
 "nbformat": 4,
 "nbformat_minor": 5
}
