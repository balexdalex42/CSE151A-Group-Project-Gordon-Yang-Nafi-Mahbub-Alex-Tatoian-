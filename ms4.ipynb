{
 "cells": [
  {
   "cell_type": "code",
   "execution_count": 1,
   "id": "ec3b5f7b-3d5c-45d4-b01e-75610a51bd0e",
   "metadata": {},
   "outputs": [],
   "source": [
    "import numpy as np\n",
    "import pandas as pd\n",
    "from sklearn.preprocessing import StandardScaler\n",
    "from sklearn.decomposition import PCA, TruncatedSVD\n",
    "import matplotlib.pyplot as plt\n",
    "from sklearn.metrics import classification_report\n",
    "from sklearn.model_selection import train_test_split\n",
    "from imblearn.over_sampling import ADASYN"
   ]
  },
  {
   "cell_type": "code",
   "execution_count": 2,
   "id": "d0615f24-e741-489e-b41e-c6a76a78a0a9",
   "metadata": {},
   "outputs": [],
   "source": [
    "df = pd.read_csv('./archive/prep_dataset.csv')"
   ]
  },
  {
   "cell_type": "code",
   "execution_count": 3,
   "id": "f5cbb619-ba51-4f7f-a875-7d028b287a50",
   "metadata": {},
   "outputs": [],
   "source": [
    "X = df.drop(columns=['pha'])\n",
    "y = (df['pha'] == 'Y').astype(int)"
   ]
  },
  {
   "cell_type": "code",
   "execution_count": 4,
   "id": "56b7594a-3b5f-4f93-b11f-81e956a42959",
   "metadata": {},
   "outputs": [],
   "source": [
    "# Encode the columns using one-hot\n",
    "X = pd.get_dummies(X, drop_first=True)"
   ]
  },
  {
   "cell_type": "code",
   "execution_count": 5,
   "id": "efe95bc9-0eda-435a-83c5-549da5d036c1",
   "metadata": {},
   "outputs": [],
   "source": [
    "scaler = StandardScaler()\n",
    "X_sc = scaler.fit_transform(X)"
   ]
  },
  {
   "cell_type": "code",
   "execution_count": 6,
   "id": "03c70e87-296f-407c-afe5-fb7a10221f79",
   "metadata": {},
   "outputs": [],
   "source": [
    "# Try a 2D PCA and visualize it\n",
    "pca2d = PCA(n_components=2)\n",
    "X_pca2d = pca2d.fit_transform(X_sc)"
   ]
  },
  {
   "cell_type": "code",
   "execution_count": 7,
   "id": "b885e7e8-0ca8-4da0-847d-082e5aec36fb",
   "metadata": {},
   "outputs": [
    {
     "data": {
      "text/plain": [
       "(932335, 2)"
      ]
     },
     "execution_count": 7,
     "metadata": {},
     "output_type": "execute_result"
    }
   ],
   "source": [
    "X_pca2d.shape"
   ]
  },
  {
   "cell_type": "code",
   "execution_count": 8,
   "id": "db28ff1c-2729-4d4a-9bde-90867b38ef9d",
   "metadata": {},
   "outputs": [],
   "source": [
    "import seaborn as sns"
   ]
  },
  {
   "cell_type": "code",
   "execution_count": 9,
   "id": "ca06ae30-5273-41a9-8a88-73c36d761a70",
   "metadata": {},
   "outputs": [],
   "source": [
    "pca_vis_df = pd.DataFrame({\n",
    "    'PCA1' : X_pca2d[:,0],\n",
    "    'PCA2' : X_pca2d[:,1],\n",
    "    'pha' : y\n",
    "})"
   ]
  },
  {
   "cell_type": "code",
   "execution_count": 10,
   "id": "0a0b17bd-c9ba-4637-83b4-0e5a15ab8dcd",
   "metadata": {},
   "outputs": [
    {
     "data": {
      "text/plain": [
       "Text(0.5, 1.0, 'Asteroid Dataset Principle Component Analysis (dims=2)')"
      ]
     },
     "execution_count": 10,
     "metadata": {},
     "output_type": "execute_result"
    },
    {
     "data": {
      "image/png": "[encoded data removed]",
      "text/plain": [
       "<Figure size 640x480 with 1 Axes>"
      ]
     },
     "metadata": {},
     "output_type": "display_data"
    }
   ],
   "source": [
    "sns.scatterplot(data=pca_vis_df, x='PCA1', y='PCA2', hue='pha')\n",
    "plt.xlabel('PCA1')\n",
    "plt.ylabel('PCA2')\n",
    "plt.title('Asteroid Dataset Principle Component Analysis (dims=2)')"
   ]
  },
  {
   "cell_type": "code",
   "execution_count": 11,
   "id": "09b67878-e157-4f29-8ba1-1af55aab5c99",
   "metadata": {},
   "outputs": [],
   "source": [
    "# Let's reduce our data to 5 features\n",
    "svd5 = TruncatedSVD(n_components=5)\n",
    "X5 = svd5.fit_transform(X)"
   ]
  },
  {
   "cell_type": "code",
   "execution_count": 12,
   "id": "1230c38b-6060-4c9b-ad22-4c936e8a20b2",
   "metadata": {},
   "outputs": [
    {
     "data": {
      "text/plain": [
       "array([7.76368763e-06, 9.99992044e-01, 1.86340022e-07, 2.22223697e-09,\n",
       "       1.96665580e-09])"
      ]
     },
     "execution_count": 12,
     "metadata": {},
     "output_type": "execute_result"
    }
   ],
   "source": [
    "svd5.explained_variance_ratio_"
   ]
  },
  {
   "cell_type": "code",
   "execution_count": 21,
   "id": "04d921ee-17a7-4cdf-81ae-1f0a5fdd5ece",
   "metadata": {},
   "outputs": [
    {
     "data": {
      "text/plain": [
       "array([3.35769092e+09, 2.26055961e+09, 9.75820752e+05, 1.06564400e+05,\n",
       "       1.00249251e+05])"
      ]
     },
     "execution_count": 21,
     "metadata": {},
     "output_type": "execute_result"
    }
   ],
   "source": [
    "svd5.singular_values_"
   ]
  },
  {
   "cell_type": "code",
   "execution_count": 13,
   "id": "882ddef2-d48d-4563-8183-24a0e28b0408",
   "metadata": {},
   "outputs": [
    {
     "data": {
      "text/plain": [
       "(932335, 5)"
      ]
     },
     "execution_count": 13,
     "metadata": {},
     "output_type": "execute_result"
    }
   ],
   "source": [
    "X5.shape"
   ]
  },
  {
   "cell_type": "code",
   "execution_count": 14,
   "id": "001968a1-a5c3-43bc-bb6e-80690a334020",
   "metadata": {},
   "outputs": [],
   "source": [
    "pca5 = PCA(n_components=5)\n",
    "X_pca5 = pca5.fit_transform(X)"
   ]
  },
  {
   "cell_type": "code",
   "execution_count": 15,
   "id": "e0a6572e-1a7a-4043-a661-521bccef6ba5",
   "metadata": {},
   "outputs": [
    {
     "data": {
      "text/plain": [
       "array([9.99999468e-01, 4.65266085e-07, 6.05823629e-08, 2.22223652e-09,\n",
       "       1.96657338e-09])"
      ]
     },
     "execution_count": 15,
     "metadata": {},
     "output_type": "execute_result"
    }
   ],
   "source": [
    "pca5.explained_variance_ratio_"
   ]
  },
  {
   "cell_type": "code",
   "execution_count": 22,
   "id": "ac97139d-9ea9-4133-9da0-1e9c46af4eda",
   "metadata": {},
   "outputs": [
    {
     "data": {
      "text/plain": [
       "array([2.26056419e+09, 1.54194065e+06, 5.56403770e+05, 1.06564389e+05,\n",
       "       1.00247151e+05])"
      ]
     },
     "execution_count": 22,
     "metadata": {},
     "output_type": "execute_result"
    }
   ],
   "source": [
    "pca5.singular_values_"
   ]
  },
  {
   "cell_type": "code",
   "execution_count": 23,
   "id": "361bcc21-0a40-4cca-b609-e907634527bb",
   "metadata": {},
   "outputs": [
    {
     "data": {
      "text/plain": [
       "array(['H', 'epoch', 'e', 'a', 'q', 'i', 'om', 'w', 'ma', 'ad', 'n', 'tp',\n",
       "       'per', 'moid', 'rms', 'neo_Y', 'class_APO', 'class_AST',\n",
       "       'class_ATE', 'class_CEN', 'class_IEO', 'class_IMB', 'class_MBA',\n",
       "       'class_MCA', 'class_OMB', 'class_TJN', 'class_TNO'], dtype=object)"
      ]
     },
     "execution_count": 23,
     "metadata": {},
     "output_type": "execute_result"
    }
   ],
   "source": [
    "pca5.feature_names_in_"
   ]
  },
  {
   "cell_type": "code",
   "execution_count": null,
   "id": "4664340a-6ec7-43bc-84f8-6a77d6476cfd",
   "metadata": {},
   "outputs": [],
   "source": []
  }
 ],
 "metadata": {
  "kernelspec": {
   "display_name": "base",
   "language": "python",
   "name": "python3"
  },
  "language_info": {
   "codemirror_mode": {
    "name": "ipython",
    "version": 3
   },
   "file_extension": ".py",
   "mimetype": "text/x-python",
   "name": "python",
   "nbconvert_exporter": "python",
   "pygments_lexer": "ipython3",
   "version": "3.12.4"
  }
 },
 "nbformat": 4,
 "nbformat_minor": 5
}
