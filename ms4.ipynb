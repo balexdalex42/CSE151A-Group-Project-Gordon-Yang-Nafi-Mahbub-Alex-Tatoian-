{
  "cells": [
    {
      "cell_type": "code",
      "execution_count": 2,
      "id": "ec3b5f7b-3d5c-45d4-b01e-75610a51bd0e",
      "metadata": {
        "id": "ec3b5f7b-3d5c-45d4-b01e-75610a51bd0e"
      },
      "outputs": [],
      "source": [
        "import numpy as np\n",
        "import pandas as pd\n",
        "from sklearn.preprocessing import StandardScaler\n",
        "from sklearn.decomposition import PCA, TruncatedSVD\n",
        "import matplotlib.pyplot as plt\n",
        "from sklearn.metrics import classification_report\n",
        "from sklearn.model_selection import train_test_split\n",
        "from imblearn.over_sampling import ADASYN"
      ]
    },
    {
      "cell_type": "markdown",
      "source": [
        "## Loading Data Set"
      ],
      "metadata": {
        "id": "7iq__rld2_JQ"
      },
      "id": "7iq__rld2_JQ"
    },
    {
      "cell_type": "code",
      "execution_count": 4,
      "id": "d0615f24-e741-489e-b41e-c6a76a78a0a9",
      "metadata": {
        "id": "d0615f24-e741-489e-b41e-c6a76a78a0a9"
      },
      "outputs": [],
      "source": [
        "import os\n",
        "import kagglehub\n",
        "import shutil\n",
        "\n",
        "#if the file doesn't exist, we need re-download it\n",
        "\n",
        "path = kagglehub.dataset_download(\"sakhawat18/asteroid-dataset\") #download file\n",
        "actual_csv_path = os.path.join(path, 'dataset.csv') #append the dataset file to the path dir"
      ]
    },
    {
      "cell_type": "code",
      "source": [
        "df = pd.read_csv(actual_csv_path, low_memory=False)\n",
        "df.columns = [c.strip().lower().replace(' ', '_').replace('-', '_') for c in df.columns]"
      ],
      "metadata": {
        "id": "LAYIJ9B_D8IL"
      },
      "id": "LAYIJ9B_D8IL",
      "execution_count": 54,
      "outputs": []
    },
    {
      "cell_type": "markdown",
      "source": [
        "##Pre-Processing (Removing Non-Useful Information; refer to [MS3](https://github.com/balexdalex42/CSE151A-Group-Project-Gordon-Yang-Nafi-Mahbub-Alex-Tatoian-/tree/Milestone3))\n",
        "We classify these columns as non-useful because attributes such as the name or the uncertainty in one of the measured values will not contribute to how the data acts."
      ],
      "metadata": {
        "id": "9w4-mMlhCtna"
      },
      "id": "9w4-mMlhCtna"
    },
    {
      "cell_type": "code",
      "source": [
        "df_new = df.copy()\n",
        "cols_to_drop = ['id', 'spkid', 'full_name', 'pdes', 'name', 'prefix', 'diameter',\n",
        "                'albedo', 'diameter_sigma', 'orbit_id', 'epoch_mjd', 'epoch_cal',\n",
        "                'equinox', 'tp_cal', 'per_y', 'moid_ld']\n",
        "sigma_cols = ['sigma_e', 'sigma_a', 'sigma_q', 'sigma_i', 'sigma_om', 'sigma_w',\n",
        "              'sigma_ma', 'sigma_ad', 'sigma_n', 'sigma_tp', 'sigma_per']\n",
        "df_new.drop(columns=cols_to_drop, inplace=True)\n",
        "df_new.drop(columns=sigma_cols, inplace=True)"
      ],
      "metadata": {
        "id": "k5Ox-4SXDe8F"
      },
      "id": "k5Ox-4SXDe8F",
      "execution_count": 9,
      "outputs": []
    },
    {
      "cell_type": "code",
      "source": [
        "final_df = df_new.dropna()\n",
        "print(final_df.shape)"
      ],
      "metadata": {
        "colab": {
          "base_uri": "https://localhost:8080/"
        },
        "id": "vsP5ABOJGSG3",
        "outputId": "f3fca97b-6a0c-42f6-a4bd-03cbcd3330c6"
      },
      "id": "vsP5ABOJGSG3",
      "execution_count": 10,
      "outputs": [
        {
          "output_type": "stream",
          "name": "stdout",
          "text": [
            "(932335, 18)\n"
          ]
        }
      ]
    },
    {
      "cell_type": "markdown",
      "source": [
        "## Starting Unsupervised Learning"
      ],
      "metadata": {
        "id": "tcl0FP64EEtM"
      },
      "id": "tcl0FP64EEtM"
    },
    {
      "cell_type": "markdown",
      "source": [
        "### Dropping Output Feature; Not Used for Unsupervised Learning (Will Be Used Later For Training)\n",
        "\n"
      ],
      "metadata": {
        "id": "NbvoSf-ADSvw"
      },
      "id": "NbvoSf-ADSvw"
    },
    {
      "cell_type": "code",
      "execution_count": 11,
      "id": "f5cbb619-ba51-4f7f-a875-7d028b287a50",
      "metadata": {
        "id": "f5cbb619-ba51-4f7f-a875-7d028b287a50"
      },
      "outputs": [],
      "source": [
        "X = final_df.drop(columns=['pha'])\n",
        "y = (final_df['pha'] == 'Y').astype(int)"
      ]
    },
    {
      "cell_type": "markdown",
      "source": [
        "### One-Hot Encoding for the Categorical Variables in the Remaining Data"
      ],
      "metadata": {
        "id": "Bbavc_f6ARii"
      },
      "id": "Bbavc_f6ARii"
    },
    {
      "cell_type": "code",
      "execution_count": 12,
      "id": "56b7594a-3b5f-4f93-b11f-81e956a42959",
      "metadata": {
        "id": "56b7594a-3b5f-4f93-b11f-81e956a42959"
      },
      "outputs": [],
      "source": [
        "# Encode the columns using one-hot\n",
        "X = pd.get_dummies(X, drop_first=True)"
      ]
    },
    {
      "cell_type": "markdown",
      "source": [
        "## Let us investigate the PCA of This Data to See if We Can Arrive at Some Understandings/Conclusions"
      ],
      "metadata": {
        "id": "VtGp1TaWAX9q"
      },
      "id": "VtGp1TaWAX9q"
    },
    {
      "cell_type": "code",
      "execution_count": 13,
      "id": "efe95bc9-0eda-435a-83c5-549da5d036c1",
      "metadata": {
        "id": "efe95bc9-0eda-435a-83c5-549da5d036c1"
      },
      "outputs": [],
      "source": [
        "scaler = StandardScaler()\n",
        "X_sc = scaler.fit_transform(X)"
      ]
    },
    {
      "cell_type": "code",
      "execution_count": 14,
      "id": "03c70e87-296f-407c-afe5-fb7a10221f79",
      "metadata": {
        "id": "03c70e87-296f-407c-afe5-fb7a10221f79"
      },
      "outputs": [],
      "source": [
        "# Try a 2D PCA and visualize it\n",
        "pca2d = PCA(n_components=2)\n",
        "X_pca2d = pca2d.fit_transform(X_sc)"
      ]
    },
    {
      "cell_type": "code",
      "execution_count": 15,
      "id": "b885e7e8-0ca8-4da0-847d-082e5aec36fb",
      "metadata": {
        "id": "b885e7e8-0ca8-4da0-847d-082e5aec36fb",
        "outputId": "386adb50-b736-4435-f02f-8a85bc723a4c",
        "colab": {
          "base_uri": "https://localhost:8080/"
        }
      },
      "outputs": [
        {
          "output_type": "execute_result",
          "data": {
            "text/plain": [
              "(932335, 2)"
            ]
          },
          "metadata": {},
          "execution_count": 15
        }
      ],
      "source": [
        "X_pca2d.shape"
      ]
    },
    {
      "cell_type": "code",
      "execution_count": 16,
      "id": "db28ff1c-2729-4d4a-9bde-90867b38ef9d",
      "metadata": {
        "id": "db28ff1c-2729-4d4a-9bde-90867b38ef9d"
      },
      "outputs": [],
      "source": [
        "import seaborn as sns"
      ]
    },
    {
      "cell_type": "code",
      "execution_count": 55,
      "id": "ca06ae30-5273-41a9-8a88-73c36d761a70",
      "metadata": {
        "id": "ca06ae30-5273-41a9-8a88-73c36d761a70"
      },
      "outputs": [],
      "source": [
        "# creating PCA dataframe so we can graph the data\n",
        "pca_vis_df = pd.DataFrame({\n",
        "    'PCA1' : X_pca2d[:,0],\n",
        "    'PCA2' : X_pca2d[:,1],\n",
        "    'pha' : y\n",
        "})"
      ]
    },
    {
      "cell_type": "code",
      "execution_count": 18,
      "id": "0a0b17bd-c9ba-4637-83b4-0e5a15ab8dcd",
      "metadata": {
        "id": "0a0b17bd-c9ba-4637-83b4-0e5a15ab8dcd",
        "outputId": "83633bed-7ebd-48c2-e3dc-4f3d89f00d17",
        "colab": {
          "base_uri": "https://localhost:8080/",
          "height": 489
        }
      },
      "outputs": [
        {
          "output_type": "execute_result",
          "data": {
            "text/plain": [
              "Text(0.5, 1.0, 'Asteroid Dataset Principle Component Analysis (dims=2)')"
            ]
          },
          "metadata": {},
          "execution_count": 18
        },
        {
          "output_type": "display_data",
          "data": {
            "text/plain": [
              "<Figure size 640x480 with 1 Axes>"
            ],
            "image/png": "[encoded data removed]"
          },
          "metadata": {}
        }
      ],
      "source": [
        "sns.scatterplot(data=pca_vis_df, x='PCA1', y='PCA2', hue='pha')\n",
        "plt.xlabel('PCA1')\n",
        "plt.ylabel('PCA2')\n",
        "plt.title('Asteroid Dataset Principle Component Analysis (dims=2)')"
      ]
    },
    {
      "cell_type": "markdown",
      "source": [
        "A crucial thing to notice is that most of the data is very close to the PCA1 axis, meaning we can get a small hint that maybe PCA1 accounts for most of the variance in the data! We will actually see that our first PC ends up accounting for upwards of 99% of the data's variance! 😮"
      ],
      "metadata": {
        "id": "81qsvZhYAqvt"
      },
      "id": "81qsvZhYAqvt"
    },
    {
      "cell_type": "markdown",
      "source": [
        "### Let's move on to PCA with 5 components..."
      ],
      "metadata": {
        "id": "B3Rx3-o7BnLb"
      },
      "id": "B3Rx3-o7BnLb"
    },
    {
      "cell_type": "code",
      "execution_count": 56,
      "id": "001968a1-a5c3-43bc-bb6e-80690a334020",
      "metadata": {
        "id": "001968a1-a5c3-43bc-bb6e-80690a334020"
      },
      "outputs": [],
      "source": [
        "pca5 = PCA(n_components=5)\n",
        "X_pca5 = pca5.fit_transform(X)"
      ]
    },
    {
      "cell_type": "code",
      "execution_count": 24,
      "id": "e0a6572e-1a7a-4043-a661-521bccef6ba5",
      "metadata": {
        "id": "e0a6572e-1a7a-4043-a661-521bccef6ba5",
        "outputId": "4067883f-9273-46a7-ab4a-dc5aa027ac0b",
        "colab": {
          "base_uri": "https://localhost:8080/"
        }
      },
      "outputs": [
        {
          "output_type": "execute_result",
          "data": {
            "text/plain": [
              "array([9.99999468e-01, 4.65266356e-07, 6.05885756e-08, 2.22223652e-09,\n",
              "       1.96657447e-09])"
            ]
          },
          "metadata": {},
          "execution_count": 24
        }
      ],
      "source": [
        "pca5.explained_variance_ratio_"
      ]
    },
    {
      "cell_type": "markdown",
      "source": [
        "**WOW!** Looking at the explained variance ratios, we see that PC1 alone accounts for more than 99.9999% of the variance in the dataset. This confirms that the strong pattern we observed in the 2-component PCA plot was not incidental, but in fact highly telling — nearly all of the data's structure is driven by a single principal component. 🤔"
      ],
      "metadata": {
        "id": "c-OqxrEHC9wh"
      },
      "id": "c-OqxrEHC9wh"
    },
    {
      "cell_type": "code",
      "execution_count": 25,
      "id": "ac97139d-9ea9-4133-9da0-1e9c46af4eda",
      "metadata": {
        "id": "ac97139d-9ea9-4133-9da0-1e9c46af4eda",
        "outputId": "29d1a399-a729-4f82-ae39-cf911e26ae79",
        "colab": {
          "base_uri": "https://localhost:8080/"
        }
      },
      "outputs": [
        {
          "output_type": "execute_result",
          "data": {
            "text/plain": [
              "array([2.26056419e+09, 1.54194110e+06, 5.56432298e+05, 1.06564389e+05,\n",
              "       1.00247178e+05])"
            ]
          },
          "metadata": {},
          "execution_count": 25
        }
      ],
      "source": [
        "pca5.singular_values_"
      ]
    },
    {
      "cell_type": "code",
      "execution_count": 58,
      "id": "361bcc21-0a40-4cca-b609-e907634527bb",
      "metadata": {
        "id": "361bcc21-0a40-4cca-b609-e907634527bb",
        "outputId": "8332b377-f83c-4ff4-b581-4508cbe65afb",
        "colab": {
          "base_uri": "https://localhost:8080/"
        }
      },
      "outputs": [
        {
          "output_type": "execute_result",
          "data": {
            "text/plain": [
              "array(['h', 'epoch', 'e', 'a', 'q', 'i', 'om', 'w', 'ma', 'ad', 'n', 'tp',\n",
              "       'per', 'moid', 'rms', 'neo_Y', 'class_APO', 'class_AST',\n",
              "       'class_ATE', 'class_CEN', 'class_IEO', 'class_IMB', 'class_MBA',\n",
              "       'class_MCA', 'class_OMB', 'class_TJN', 'class_TNO'], dtype=object)"
            ]
          },
          "metadata": {},
          "execution_count": 58
        }
      ],
      "source": [
        "pca5.feature_names_in_"
      ]
    },
    {
      "cell_type": "markdown",
      "source": [
        "## Let's Try Clustering the Data to See if Can Notice Anything More"
      ],
      "metadata": {
        "id": "24e7_7qZEBrY"
      },
      "id": "24e7_7qZEBrY"
    },
    {
      "cell_type": "markdown",
      "source": [
        "### Trying K-Means Using Our 2-Component PCA"
      ],
      "metadata": {
        "id": "8uSlx2f2Hoeg"
      },
      "id": "8uSlx2f2Hoeg"
    },
    {
      "cell_type": "code",
      "source": [
        "import matplotlib.pyplot as plt\n",
        "from matplotlib.lines import Line2D\n",
        "from sklearn.cluster import KMeans\n",
        "\n",
        "# Remember X_pca2d is our 2-Comp PCA Data\n",
        "k = 2\n",
        "kmeans = KMeans(n_clusters=k, random_state=42)\n",
        "labels = kmeans.fit_predict(X_pca2d)\n",
        "\n",
        "plt.figure(figsize=(8,6))\n",
        "scatter = plt.scatter(X_pca2d[:,0], X_pca2d[:,1], c=labels, cmap='viridis', alpha=0.7)\n",
        "plt.scatter(kmeans.cluster_centers_[:,0], kmeans.cluster_centers_[:,1],\n",
        "            c='red', marker='X', s=200)\n",
        "\n",
        "plt.xlabel(\"PC1\")\n",
        "plt.ylabel(\"PC2\")\n",
        "plt.title(\"KMeans Clustering on PCA (2D)\")\n",
        "\n",
        "# Create a legend mapping colors to cluster numbers\n",
        "legend_elements = [Line2D([0], [0], marker='o', color='w', label=f'Cluster {i}',\n",
        "                          markerfacecolor=scatter.cmap(scatter.norm(i)), markersize=10)\n",
        "                   for i in range(k)]\n",
        "legend_elements.append(Line2D([0], [0], marker='X', color='w', label='Centroids',\n",
        "                              markerfacecolor='red', markersize=10))\n",
        "plt.legend(handles=legend_elements)\n",
        "plt.show()"
      ],
      "metadata": {
        "id": "igUINF2VHoCc",
        "outputId": "5279ed49-f747-4163-d99a-a912d0a2c331",
        "colab": {
          "base_uri": "https://localhost:8080/",
          "height": 564
        }
      },
      "id": "igUINF2VHoCc",
      "execution_count": 66,
      "outputs": [
        {
          "output_type": "display_data",
          "data": {
            "text/plain": [
              "<Figure size 800x600 with 1 Axes>"
            ],
            "image/png": "[encoded data removed]"
          },
          "metadata": {}
        }
      ]
    },
    {
      "cell_type": "markdown",
      "source": [
        "We would like to show that in this case, K-Means does an absolutely **terrible** job at clustering. This is because this data itself doesn't look appropriate for clustering around 2 centroids. Originally, the idea of why we chose $k=2$ was purely because we knew that we had only 2 classes. 😞"
      ],
      "metadata": {
        "id": "gSLioUAePVLf"
      },
      "id": "gSLioUAePVLf"
    },
    {
      "cell_type": "markdown",
      "source": [
        "## Model Training (Using KNN)"
      ],
      "metadata": {
        "id": "WVB4XugxARgs"
      },
      "id": "WVB4XugxARgs"
    },
    {
      "cell_type": "markdown",
      "source": [
        "### Splitting the Data"
      ],
      "metadata": {
        "id": "FiMzP_RaUF17"
      },
      "id": "FiMzP_RaUF17"
    },
    {
      "cell_type": "code",
      "execution_count": 59,
      "id": "4664340a-6ec7-43bc-84f8-6a77d6476cfd",
      "metadata": {
        "id": "4664340a-6ec7-43bc-84f8-6a77d6476cfd",
        "colab": {
          "base_uri": "https://localhost:8080/"
        },
        "outputId": "c731d6c5-441d-46a6-d106-d5ba9dd631ec"
      },
      "outputs": [
        {
          "output_type": "stream",
          "name": "stdout",
          "text": [
            "x_train shape: (745868, 27)\n",
            "x_test shape: (186467, 27)\n",
            "y_train shape: (745868,)\n",
            "y_test shape: (186467,)\n"
          ]
        }
      ],
      "source": [
        "X_train, X_test, y_train, y_test = train_test_split(X, y, test_size=0.2, random_state=42)\n",
        "print(f\"x_train shape: {X_train.shape}\")\n",
        "print(f\"x_test shape: {X_test.shape}\")\n",
        "print(f\"y_train shape: {y_train.shape}\")\n",
        "print(f\"y_test shape: {y_test.shape}\")"
      ]
    },
    {
      "cell_type": "markdown",
      "source": [
        "### Getting the SVD of our Training Matrix"
      ],
      "metadata": {
        "id": "vf5ojNhGhBB6"
      },
      "id": "vf5ojNhGhBB6"
    },
    {
      "cell_type": "markdown",
      "source": [
        "Note: We also need the test matrix `X_sc_test` for our classification report!"
      ],
      "metadata": {
        "id": "lTBuF5LOG2fG"
      },
      "id": "lTBuF5LOG2fG"
    },
    {
      "cell_type": "code",
      "source": [
        "#training\n",
        "scaler = StandardScaler()\n",
        "X_sc_train = scaler.fit_transform(X_train)\n",
        "U_train, S_train, V_train_t = np.linalg.svd(X_sc_train, full_matrices=False)\n",
        "#Need centered testing matrix, note we use training mean though; NO DATA LEAKAGE ALLOWED\n",
        "X_sc_test = scaler.transform(X_test)\n"
      ],
      "metadata": {
        "id": "ZCxPK-imU1t7"
      },
      "id": "ZCxPK-imU1t7",
      "execution_count": 60,
      "outputs": []
    },
    {
      "cell_type": "markdown",
      "source": [
        "#### Some Thresholds That Users Can Edit to Play Around With the Data... 😸"
      ],
      "metadata": {
        "id": "ZSXlVB3EEWjI"
      },
      "id": "ZSXlVB3EEWjI"
    },
    {
      "cell_type": "code",
      "source": [
        "#DEFINING CERTAIN CONSTANTS\n",
        "max_num_neighbors = 15\n",
        "#We know that we don't need to iterate to higher dim, since the dimensions would exp 95% of the var\n",
        "variance_threshold = 0.05\n",
        "#How many dimension do we want to go up to (max 27, but that will be too slow)\n",
        "max_k = 8 #we default to 8"
      ],
      "metadata": {
        "id": "obKipKyGhVvp"
      },
      "id": "obKipKyGhVvp",
      "execution_count": 62,
      "outputs": []
    },
    {
      "cell_type": "markdown",
      "source": [
        "### Performing Cross Validation to Determine the Best Pair of $k$ (dimensions in $X$ that we reduce to) and `num_neighbors` (from the KNN)"
      ],
      "metadata": {
        "id": "cSeBBhaREy-H"
      },
      "id": "cSeBBhaREy-H"
    },
    {
      "cell_type": "code",
      "source": [
        "import random #for the showing of the accuracy of the model\n",
        "#Now performing the Cross-Validation to get best k-value and number of neighbors\n",
        "from sklearn.neighbors import KNeighborsClassifier\n",
        "\n",
        "accuracy_scores = [] # just to show\n",
        "best_macro_f1 = 0\n",
        "best_k = 0\n",
        "best_num_neighbors = 0\n",
        "\n",
        "for k in range(1, max_k):\n",
        "  U_k, S_k, Vt_k = U_train[:, :k], S_train[:k], V_train_t[:k, :]\n",
        "  X_train_k = U_k @ np.diag(S_k) # could've used formula Xc_train @ Vt_k.T\n",
        "  X_test_k = X_sc_test @ Vt_k.T\n",
        "  for num_neighbors in range(1, max_num_neighbors + 1):\n",
        "    knn = KNeighborsClassifier(n_neighbors=num_neighbors)\n",
        "    knn.fit(X_train_k, y_train)\n",
        "    y_pred = knn.predict(X_test_k)\n",
        "    report = classification_report(y_test, y_pred, output_dict=True)\n",
        "    accuracy_scores.append(report['accuracy'])\n",
        "    if report['macro avg']['f1-score'] > best_macro_f1:\n",
        "      best_macro_f1 = report['macro avg']['f1-score']\n",
        "      best_k = k\n",
        "      best_num_neighbors = num_neighbors\n",
        "print(f\"best_k: {best_k}\")\n",
        "print(f\"best_num_neighbors: {best_num_neighbors}\")\n",
        "print(f\"best_macro_f1: {best_macro_f1}\")\n",
        "print(f\"Random 10 accuracy scores: {random.sample(accuracy_scores, 10)}\")"
      ],
      "metadata": {
        "colab": {
          "base_uri": "https://localhost:8080/"
        },
        "id": "sRmU0576hV_X",
        "outputId": "bfbcff8f-23de-4691-d7e6-dddcc31e04a2"
      },
      "id": "sRmU0576hV_X",
      "execution_count": 63,
      "outputs": [
        {
          "output_type": "stream",
          "name": "stdout",
          "text": [
            "best_k: 6\n",
            "best_num_neighbors: 3\n",
            "best_macro_f1: 0.6927143065865731\n",
            "Random 10 accuracy scores: [0.9976349702628348, 0.9978226710356256, 0.9979942831707487, 0.9979352914993002, 0.9980532748421973, 0.9980640006006425, 0.9979674687746357, 0.9977261392096188, 0.9980479119629747, 0.9976027929874991]\n"
          ]
        }
      ]
    },
    {
      "cell_type": "markdown",
      "source": [
        "We can see that our *absolute* best $k$, `num-neighbors` pair, our model will is correctly predicting about 70% of positives for each class (Hazardous and Non-Hazardous). We selected a random 10 accuracy scores to show how incredibly inflated accuracy can be, as well as how sly it can be about the performance of the model. While our model does a *decent* job at classification between the two classes, the accuracy would imply that our model is almost absolutely perfect which is absolutely NOT the case. **In context of this data, only about 0.2% of the asteroids were classified as Hazardous while the rest where not, that means that as long as our model is good at predicting non-hazardous asteroids (which is very easy), then it will automatically be around 99% accurate!**  \n",
        "We lay this out as a careful reminder of how tricky statistics and labels can be...   \n",
        "\n",
        "Note: We actually tried to use the variance threshold to pre-determine what the max value of $k$ we would iterate to, but PC1 is so incredibly influential, that when using cumulative variance ratio:\n",
        "$$\\sum_{i=1}^{k}{\\text{Explanatory Variance Ratio}}_i,$$\n",
        "no matter the choice of $k$, we would always be greater than the threshold (because **PC1 contributed to more than 99.9999% of the data's variance!**). Because of this we had to scratch the calculation and try to show higher values of $k$."
      ],
      "metadata": {
        "id": "E4VujygMGwSq"
      },
      "id": "E4VujygMGwSq"
    },
    {
      "cell_type": "code",
      "source": [],
      "metadata": {
        "id": "KPpV1NBsoHSx"
      },
      "id": "KPpV1NBsoHSx",
      "execution_count": null,
      "outputs": []
    }
  ],
  "metadata": {
    "kernelspec": {
      "display_name": "base",
      "language": "python",
      "name": "python3"
    },
    "language_info": {
      "codemirror_mode": {
        "name": "ipython",
        "version": 3
      },
      "file_extension": ".py",
      "mimetype": "text/x-python",
      "name": "python",
      "nbconvert_exporter": "python",
      "pygments_lexer": "ipython3",
      "version": "3.12.4"
    },
    "colab": {
      "provenance": []
    }
  },
  "nbformat": 4,
  "nbformat_minor": 5
}